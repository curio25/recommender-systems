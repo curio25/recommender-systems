{
  "metadata": {
    "kernelspec": {
      "language": "python",
      "display_name": "Python 3",
      "name": "python3"
    },
    "language_info": {
      "name": "python",
      "version": "3.10.13",
      "mimetype": "text/x-python",
      "codemirror_mode": {
        "name": "ipython",
        "version": 3
      },
      "pygments_lexer": "ipython3",
      "nbconvert_exporter": "python",
      "file_extension": ".py"
    },
    "kaggle": {
      "accelerator": "none",
      "dataSources": [
        {
          "sourceId": 6663,
          "sourceType": "datasetVersion",
          "datasetId": 3405
        }
      ],
      "dockerImageVersionId": 30646,
      "isInternetEnabled": false,
      "language": "python",
      "sourceType": "notebook",
      "isGpuEnabled": false
    },
    "colab": {
      "name": "recommender-system-content-based-filtering",
      "provenance": [],
      "include_colab_link": true
    }
  },
  "nbformat_minor": 0,
  "nbformat": 4,
  "cells": [
    {
      "cell_type": "markdown",
      "metadata": {
        "id": "view-in-github",
        "colab_type": "text"
      },
      "source": [
        "<a href=\"https://colab.research.google.com/github/curio25/recommender-systems/blob/main/recommender_system_content_based_filtering.ipynb\" target=\"_parent\"><img src=\"https://colab.research.google.com/assets/colab-badge.svg\" alt=\"Open In Colab\"/></a>"
      ]
    },
    {
      "source": [
        "\n",
        "# IMPORTANT: RUN THIS CELL IN ORDER TO IMPORT YOUR KAGGLE DATA SOURCES\n",
        "# TO THE CORRECT LOCATION (/kaggle/input) IN YOUR NOTEBOOK,\n",
        "# THEN FEEL FREE TO DELETE THIS CELL.\n",
        "# NOTE: THIS NOTEBOOK ENVIRONMENT DIFFERS FROM KAGGLE'S PYTHON\n",
        "# ENVIRONMENT SO THERE MAY BE MISSING LIBRARIES USED BY YOUR\n",
        "# NOTEBOOK.\n",
        "\n",
        "import os\n",
        "import sys\n",
        "from tempfile import NamedTemporaryFile\n",
        "from urllib.request import urlopen\n",
        "from urllib.parse import unquote, urlparse\n",
        "from urllib.error import HTTPError\n",
        "from zipfile import ZipFile\n",
        "import tarfile\n",
        "import shutil\n",
        "\n",
        "CHUNK_SIZE = 40960\n",
        "DATA_SOURCE_MAPPING = 'the-movies-dataset:https%3A%2F%2Fstorage.googleapis.com%2Fkaggle-data-sets%2F3405%2F6663%2Fbundle%2Farchive.zip%3FX-Goog-Algorithm%3DGOOG4-RSA-SHA256%26X-Goog-Credential%3Dgcp-kaggle-com%2540kaggle-161607.iam.gserviceaccount.com%252F20240208%252Fauto%252Fstorage%252Fgoog4_request%26X-Goog-Date%3D20240208T233040Z%26X-Goog-Expires%3D259200%26X-Goog-SignedHeaders%3Dhost%26X-Goog-Signature%3D04ecb4defc9a4a66473856d7794283c860b7372ad000ac43c42c47995036f6ca2c79fac003bc817ceeb25022dfc473f4e09e4b5b4f963f3af4799025cb95bf604c95b94809856f1e73d007c045ceca1e0f8e33ddbc607f3f15fd314f031a9b7b12017a460a4cc53e2fa4d9e7f4b3b8b705aa6c925af6bc60496f402780636b2b9e1b7c96567c9a2281f56548ba6199ad7c8e253d9552c28b0a18482f1ddd996c97810e0436305582ac6c0bc5f3715882dbf2b726394546913ee4fef318489f39deeb6754143b0898f6ae3c3112dd1e33600f6517acd2b86832c9acfee314e969d852d12a03602604972b50077ce1dabeb5c56639feb74551678a30692aad7103'\n",
        "\n",
        "KAGGLE_INPUT_PATH='/kaggle/input'\n",
        "KAGGLE_WORKING_PATH='/kaggle/working'\n",
        "KAGGLE_SYMLINK='kaggle'\n",
        "\n",
        "!umount /kaggle/input/ 2> /dev/null\n",
        "shutil.rmtree('/kaggle/input', ignore_errors=True)\n",
        "os.makedirs(KAGGLE_INPUT_PATH, 0o777, exist_ok=True)\n",
        "os.makedirs(KAGGLE_WORKING_PATH, 0o777, exist_ok=True)\n",
        "\n",
        "try:\n",
        "  os.symlink(KAGGLE_INPUT_PATH, os.path.join(\"..\", 'input'), target_is_directory=True)\n",
        "except FileExistsError:\n",
        "  pass\n",
        "try:\n",
        "  os.symlink(KAGGLE_WORKING_PATH, os.path.join(\"..\", 'working'), target_is_directory=True)\n",
        "except FileExistsError:\n",
        "  pass\n",
        "\n",
        "for data_source_mapping in DATA_SOURCE_MAPPING.split(','):\n",
        "    directory, download_url_encoded = data_source_mapping.split(':')\n",
        "    download_url = unquote(download_url_encoded)\n",
        "    filename = urlparse(download_url).path\n",
        "    destination_path = os.path.join(KAGGLE_INPUT_PATH, directory)\n",
        "    try:\n",
        "        with urlopen(download_url) as fileres, NamedTemporaryFile() as tfile:\n",
        "            total_length = fileres.headers['content-length']\n",
        "            print(f'Downloading {directory}, {total_length} bytes compressed')\n",
        "            dl = 0\n",
        "            data = fileres.read(CHUNK_SIZE)\n",
        "            while len(data) > 0:\n",
        "                dl += len(data)\n",
        "                tfile.write(data)\n",
        "                done = int(50 * dl / int(total_length))\n",
        "                sys.stdout.write(f\"\\r[{'=' * done}{' ' * (50-done)}] {dl} bytes downloaded\")\n",
        "                sys.stdout.flush()\n",
        "                data = fileres.read(CHUNK_SIZE)\n",
        "            if filename.endswith('.zip'):\n",
        "              with ZipFile(tfile) as zfile:\n",
        "                zfile.extractall(destination_path)\n",
        "            else:\n",
        "              with tarfile.open(tfile.name) as tarfile:\n",
        "                tarfile.extractall(destination_path)\n",
        "            print(f'\\nDownloaded and uncompressed: {directory}')\n",
        "    except HTTPError as e:\n",
        "        print(f'Failed to load (likely expired) {download_url} to path {destination_path}')\n",
        "        continue\n",
        "    except OSError as e:\n",
        "        print(f'Failed to load {download_url} to path {destination_path}')\n",
        "        continue\n",
        "\n",
        "print('Data source import complete.')\n"
      ],
      "metadata": {
        "id": "36yzdsyKDyQQ",
        "outputId": "e327db5e-c7e6-47ac-b77a-e270da1b5c60",
        "colab": {
          "base_uri": "https://localhost:8080/"
        }
      },
      "cell_type": "code",
      "outputs": [
        {
          "output_type": "stream",
          "name": "stdout",
          "text": [
            "Downloading the-movies-dataset, 238862293 bytes compressed\n",
            "[==================================================] 238862293 bytes downloaded\n",
            "Downloaded and uncompressed: the-movies-dataset\n",
            "Data source import complete.\n"
          ]
        }
      ],
      "execution_count": 1
    },
    {
      "cell_type": "code",
      "source": [
        "import numpy as np\n",
        "import pandas as pd"
      ],
      "metadata": {
        "execution": {
          "iopub.status.busy": "2024-02-08T23:22:23.936804Z",
          "iopub.execute_input": "2024-02-08T23:22:23.937597Z",
          "iopub.status.idle": "2024-02-08T23:22:25.248561Z",
          "shell.execute_reply.started": "2024-02-08T23:22:23.937549Z",
          "shell.execute_reply": "2024-02-08T23:22:25.247161Z"
        },
        "trusted": true,
        "id": "sTfwIf_0DyQR"
      },
      "execution_count": null,
      "outputs": []
    },
    {
      "cell_type": "code",
      "source": [
        "#read data\n",
        "data_credits = pd.read_csv('/kaggle/input/the-movies-dataset/credits.csv')\n",
        "data_keywords = pd.read_csv('/kaggle/input/the-movies-dataset/keywords.csv')\n",
        "data_links = pd.read_csv('/kaggle/input/the-movies-dataset/links.csv')\n",
        "data_links_small = pd.read_csv('/kaggle/input/the-movies-dataset/links_small.csv')\n",
        "data_metadata = pd.read_csv('/kaggle/input/the-movies-dataset/movies_metadata.csv')\n",
        "data_ratings = pd.read_csv('/kaggle/input/the-movies-dataset/ratings.csv')\n",
        "data_ratings_small = pd.read_csv('/kaggle/input/the-movies-dataset/ratings_small.csv')"
      ],
      "metadata": {
        "execution": {
          "iopub.status.busy": "2024-02-08T23:22:34.27774Z",
          "iopub.execute_input": "2024-02-08T23:22:34.278934Z",
          "iopub.status.idle": "2024-02-08T23:23:02.748639Z",
          "shell.execute_reply.started": "2024-02-08T23:22:34.278881Z",
          "shell.execute_reply": "2024-02-08T23:23:02.747299Z"
        },
        "trusted": true,
        "id": "Z6gcNdAGDyQS",
        "outputId": "0407b0c4-67c9-4713-90df-ab67f7e92114"
      },
      "execution_count": null,
      "outputs": [
        {
          "name": "stderr",
          "text": "/tmp/ipykernel_33/2091420639.py:6: DtypeWarning: Columns (10) have mixed types. Specify dtype option on import or set low_memory=False.\n  data_metadata = pd.read_csv('/kaggle/input/the-movies-dataset/movies_metadata.csv')\n",
          "output_type": "stream"
        }
      ]
    },
    {
      "cell_type": "code",
      "source": [
        "#peek data\n",
        "data_credits.head()"
      ],
      "metadata": {
        "id": "urjlz69PDyQS"
      },
      "execution_count": null,
      "outputs": []
    }
  ]
}